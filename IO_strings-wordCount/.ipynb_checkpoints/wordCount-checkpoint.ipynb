{
 "cells": [
  {
   "cell_type": "markdown",
   "metadata": {},
   "source": [
    "# Word count:\n",
    "Given a text, in this case the Metamorphosis written by Kafka, the function topm_words returns the m words with n number of characters that appear most often in the text."
   ]
  },
  {
   "cell_type": "code",
   "execution_count": 3,
   "metadata": {},
   "outputs": [],
   "source": [
    "#Open and read file\n",
    "file = open(\"metamorphosis.txt\", \"r\")\n",
    "text = file.readlines()"
   ]
  },
  {
   "cell_type": "code",
   "execution_count": 56,
   "metadata": {},
   "outputs": [],
   "source": [
    "#Clean text: join every sentence and replace the odd characters\n",
    "clean_text = ''.join(str(x) for x in text).replace('\\n',' ').replace('\\'',\"\").replace('\\\"','')\n",
    "#Lower case\n",
    "clean_text = clean_text.lower()"
   ]
  },
  {
   "cell_type": "code",
   "execution_count": 71,
   "metadata": {},
   "outputs": [],
   "source": [
    "#Function: To see the documentation -> topm_words?\n",
    "def topm_words(text,m,n):\n",
    "    '''\n",
    "        Return: The m words with n characters \n",
    "        that appear most often in the text.\n",
    "    '''\n",
    "    words = text.split()\n",
    "    myDict = {}\n",
    "    \n",
    "    #Fill the dictionary with the words that satisfy the condition\n",
    "    for w in words:\n",
    "        if len(w)==n:\n",
    "            if w in myDict:\n",
    "                myDict[w] += 1\n",
    "            else:\n",
    "                myDict[w] = 1\n",
    "    \n",
    "    #Sort dict in descending order\n",
    "    sortedKeys = sorted(myDict, key=myDict.get, reverse=True)\n",
    "    for i in range(m):\n",
    "        w = sortedKeys[i]\n",
    "        print(w,myDict[w])"
   ]
  },
  {
   "cell_type": "markdown",
   "metadata": {},
   "source": [
    "Let's aks the function for the 4 most repeated words with 5 characters:"
   ]
  },
  {
   "cell_type": "code",
   "execution_count": 74,
   "metadata": {
    "jupyter": {
     "source_hidden": true
    }
   },
   "outputs": [
    {
     "name": "stdout",
     "output_type": "stream",
     "text": [
      "would 185\n",
      "could 118\n",
      "there 87\n",
      "their 70\n"
     ]
    }
   ],
   "source": [
    "#Test: \n",
    "topm_words(clean_text,4,5)"
   ]
  }
 ],
 "metadata": {
  "kernelspec": {
   "display_name": "Python 3",
   "language": "python",
   "name": "python3"
  },
  "language_info": {
   "codemirror_mode": {
    "name": "ipython",
    "version": 3
   },
   "file_extension": ".py",
   "mimetype": "text/x-python",
   "name": "python",
   "nbconvert_exporter": "python",
   "pygments_lexer": "ipython3",
   "version": "3.7.3"
  }
 },
 "nbformat": 4,
 "nbformat_minor": 4
}
