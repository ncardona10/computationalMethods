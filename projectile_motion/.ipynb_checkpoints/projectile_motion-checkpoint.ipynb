{
 "cells": [
  {
   "cell_type": "markdown",
   "metadata": {},
   "source": [
    "# Projectile motion\n",
    "A projectile is thrown out at an angle $\\theta$ with a velocity $\\vec{v}$.\n",
    "\n",
    "\n",
    "<img src=\"cannon.png\" height=\"100\" width=\"550\" style=\"margin: auto\"></img>\n"
   ]
  },
  {
   "cell_type": "markdown",
   "metadata": {},
   "source": [
    "The projectile behavior in the coordinates (x,y) is given by:\n",
    "$$x_f = x_0 + v_xt$$"
   ]
  },
  {
   "cell_type": "code",
   "execution_count": null,
   "metadata": {},
   "outputs": [],
   "source": []
  }
 ],
 "metadata": {
  "kernelspec": {
   "display_name": "Python 3",
   "language": "python",
   "name": "python3"
  },
  "language_info": {
   "codemirror_mode": {
    "name": "ipython",
    "version": 3
   },
   "file_extension": ".py",
   "mimetype": "text/x-python",
   "name": "python",
   "nbconvert_exporter": "python",
   "pygments_lexer": "ipython3",
   "version": "3.7.3"
  }
 },
 "nbformat": 4,
 "nbformat_minor": 4
}
