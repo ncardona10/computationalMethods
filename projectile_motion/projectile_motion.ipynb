{
 "cells": [
  {
   "cell_type": "code",
   "execution_count": 3,
   "metadata": {
    "jupyter": {
     "source_hidden": true
    }
   },
   "outputs": [],
   "source": [
    "import numpy as np\n",
    "import matplotlib.pyplot as plt"
   ]
  },
  {
   "cell_type": "markdown",
   "metadata": {},
   "source": [
    "# Projectile motion\n",
    "A projectile is thrown out at an angle $\\theta$ with a velocity $\\vec{v_0}$.\n",
    "\n",
    "\n",
    "<img src=\"cannon.png\" height=\"100\" width=\"550\" alt=\"cañonsito\" style=\"display: block;margin-left: auto;margin-right: auto;\"></img>\n"
   ]
  },
  {
   "cell_type": "markdown",
   "metadata": {},
   "source": [
    "The projectile behavior in the coordinates $(x,y)$ is given by:\n",
    "\n",
    " $$x(t)$$ | $$y(t)$$ \n",
    "--------------------|----------------------------------\n",
    " $$x(t) = x_0 + v_xt$$ | $$y(t) = y_0+v_yt-\\frac{1}{2}gt^2$$ \n",
    " $$x(t) = x_0 + v_0tcos\\theta$$ | $$y(t) = y_0+v_0tsin\\theta -\\frac{1}{2}gt^2$$ \n",
    "\n",
    "The projectile's velocities are given by:\n",
    "\n",
    "| $$v_x(t)$$ | $$v_y(t)$$ |\n",
    "|--------------------|----------------------------------|\n",
    "| $$v_x(t) = v_{0}cos\\theta$$ | $$v_y(t) = v_{0}sin\\theta - gt$$ |\n"
   ]
  },
  {
   "cell_type": "code",
   "execution_count": 113,
   "metadata": {
    "jupyter": {
     "source_hidden": true
    }
   },
   "outputs": [],
   "source": [
    "def xf(v0,x0,t,theta):\n",
    "    xf = x0 + v0*t*np.cos(theta)\n",
    "    return xf\n",
    "def yf(v0,y0,t,theta,g):\n",
    "    yf = y0 + v0*t*np.sin(theta) - 0.5*g*t**2\n",
    "    return yf\n",
    "def vy(v0,theta,g,t):\n",
    "    vy = v0*np.sin(theta) - g*t\n",
    "    return vy"
   ]
  },
  {
   "cell_type": "code",
   "execution_count": 34,
   "metadata": {
    "jupyter": {
     "source_hidden": true
    }
   },
   "outputs": [],
   "source": [
    "#Define the initial parameters\n",
    "theta = np.pi/4\n",
    "g = 10\n",
    "v0 = 30\n",
    "y0 = 25\n",
    "x0 = 0 "
   ]
  },
  {
   "cell_type": "code",
   "execution_count": 36,
   "metadata": {
    "jupyter": {
     "source_hidden": true
    }
   },
   "outputs": [],
   "source": [
    "#Find the time the ball would be in the air\n",
    "def max_time(g,v0,theta,y0):\n",
    "    coeff = [-0.5*g,v0*np.sin(theta), y0]\n",
    "    root = np.roots(coeff)\n",
    "    t = np.linspace(0, root[root>0], 100)\n",
    "    return t"
   ]
  },
  {
   "cell_type": "code",
   "execution_count": 142,
   "metadata": {
    "jupyter": {
     "source_hidden": true
    }
   },
   "outputs": [
    {
     "data": {
      "text/plain": [
       "Text(0, 0.5, '$v_y(t)$')"
      ]
     },
     "execution_count": 142,
     "metadata": {},
     "output_type": "execute_result"
    },
    {
     "data": {
      "image/png": "[encoded data removed]",
      "text/plain": [
       "<Figure size 720x360 with 4 Axes>"
      ]
     },
     "metadata": {
      "needs_background": "light"
     },
     "output_type": "display_data"
    }
   ],
   "source": [
    "# Create the subplots\n",
    "t = max_time(g,v0,theta,y0)\n",
    "fig, [(ax1,ax2),(ax3,ax4)] = plt.subplots(2, 2, figsize=(10,5))\n",
    "plt.subplots_adjust(left=None, bottom=None, right=None, top=None, wspace=0.5, hspace=0.5)\n",
    "\n",
    "ax1.plot(t, xf(v0,x0,t,theta))\n",
    "ax1.plot([np.min(t),np.max(t)],[0,0],c='black' ,linewidth = 0.5)\n",
    "ax1.plot([v0*np.sin(theta)/g,v0*np.sin(theta)/g],[0,1000],c='black',linewidth = 0.8, linestyle = '--' ,label=r'$t_{Max}$')\n",
    "ax1.set_title(r'$Position\\ in\\ x$')\n",
    "ax1.set_xlabel(r't')\n",
    "ax1.set_ylabel(r'x(t)')\n",
    "ax1.set_xlim(0,np.max(t))\n",
    "ax1.set_ylim(0,150)\n",
    "\n",
    "\n",
    "ax2.plot(t, yf(v0,y0,t,theta,g),label=r'$y(t)$')\n",
    "ax2.plot([np.min(t),np.max(t)],[y0,y0], linestyle = '--',label='Initial height')\n",
    "ax2.plot([np.min(t),np.max(t)],[0,0],c='black' ,linewidth = 0.5)\n",
    "ax2.plot([v0*np.sin(theta)/g,v0*np.sin(theta)/g],[-50,60],c='black',linewidth = 0.8, linestyle = '--'  ,label=r'$t_{Max}$')\n",
    "ax2.set_title(r'$Position\\ in\\ y$')\n",
    "ax2.set_xlabel(r'$t$')\n",
    "ax2.set_xlim(0,np.max(t))\n",
    "ax2.set_ylim(-10,50)\n",
    "ax2.set_ylabel(r'y(t)')\n",
    "ax2.legend()\n",
    "\n",
    "ax3.plot([np.min(t),np.max(t)],[v0*np.cos(theta),v0*np.cos(theta)] )\n",
    "ax3.set_title(r'$Velocity\\ in\\ x$')\n",
    "ax3.plot([v0*np.sin(theta)/g,v0*np.sin(theta)/g],[-100,100],c='black',linewidth = 0.8, linestyle = '--' ,label=r'$t_{Max}$')\n",
    "ax3.set_xlabel(r't')\n",
    "ax3.set_ylabel(r'$v_x(t)$')\n",
    "ax3.set_xlim(0,np.max(t))\n",
    "ax3.set_ylim(-40,40)\n",
    "ax3.plot([np.min(t),np.max(t)],[0,0],c='black' ,linewidth = 0.5)\n",
    "\n",
    "ax4.set_ylim(-40,40)\n",
    "ax4.set_xlim(0,np.max(t))\n",
    "ax4.set_title(r'$Velocity\\ in\\ y$')\n",
    "ax4.plot(t, vy(v0,theta,g,t),c='red',label=r'$v_y(t)$')\n",
    "ax4.plot([np.min(t),np.max(t)],[0,0],c='black' ,linewidth = 0.5)\n",
    "ax4.plot([v0*np.sin(theta)/g,v0*np.sin(theta)/g],[-50,60],c='black',linewidth = 0.8, linestyle = '--' ,label=r'$t_{Max}$')\n",
    "ax4.legend()\n",
    "ax4.set_xlabel(r't')\n",
    "ax4.set_ylabel(r'$v_y(t)$')"
   ]
  }
 ],
 "metadata": {
  "kernelspec": {
   "display_name": "Python 3",
   "language": "python",
   "name": "python3"
  },
  "language_info": {
   "codemirror_mode": {
    "name": "ipython",
    "version": 3
   },
   "file_extension": ".py",
   "mimetype": "text/x-python",
   "name": "python",
   "nbconvert_exporter": "python",
   "pygments_lexer": "ipython3",
   "version": "3.7.3"
  }
 },
 "nbformat": 4,
 "nbformat_minor": 4
}
